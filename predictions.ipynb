{
 "cells": [
  {
   "cell_type": "code",
   "execution_count": 93,
   "id": "28d37b90",
   "metadata": {},
   "outputs": [],
   "source": [
    "import pandas as pd\n",
    "import numpy as np\n",
    "\n",
    "import pickle\n",
    "\n",
    "from sklearn.model_selection import train_test_split\n",
    "from sklearn.preprocessing import OneHotEncoder, LabelEncoder\n",
    "\n",
    "import tensorflow\n",
    "import keras\n",
    "from tensorflow.keras.models import load_model"
   ]
  },
  {
   "cell_type": "code",
   "execution_count": 94,
   "id": "2ea21dd8",
   "metadata": {},
   "outputs": [],
   "source": [
    "# load the model, scalers, encodings\n",
    "model = load_model('model.keras')\n",
    "with open('label_encoder_gender.pkl', 'rb') as f:\n",
    "    gender = pickle.load(f)\n",
    "with open('one_hot_encoder_geo.pkl', 'rb') as f: \n",
    "    geo = pickle.load(f)\n",
    "with open('scaler.pkl', 'rb') as f:\n",
    "    scaler = pickle.load(f)\n",
    "\n"
   ]
  },
  {
   "cell_type": "code",
   "execution_count": 95,
   "id": "b7cbe83e",
   "metadata": {},
   "outputs": [
    {
     "data": {
      "text/html": [
       "<div>\n",
       "<style scoped>\n",
       "    .dataframe tbody tr th:only-of-type {\n",
       "        vertical-align: middle;\n",
       "    }\n",
       "\n",
       "    .dataframe tbody tr th {\n",
       "        vertical-align: top;\n",
       "    }\n",
       "\n",
       "    .dataframe thead th {\n",
       "        text-align: right;\n",
       "    }\n",
       "</style>\n",
       "<table border=\"1\" class=\"dataframe\">\n",
       "  <thead>\n",
       "    <tr style=\"text-align: right;\">\n",
       "      <th></th>\n",
       "      <th>Geography_France</th>\n",
       "      <th>Geography_Germany</th>\n",
       "      <th>Geography_Spain</th>\n",
       "    </tr>\n",
       "  </thead>\n",
       "  <tbody>\n",
       "    <tr>\n",
       "      <th>0</th>\n",
       "      <td>1.0</td>\n",
       "      <td>0.0</td>\n",
       "      <td>0.0</td>\n",
       "    </tr>\n",
       "  </tbody>\n",
       "</table>\n",
       "</div>"
      ],
      "text/plain": [
       "   Geography_France  Geography_Germany  Geography_Spain\n",
       "0               1.0                0.0              0.0"
      ]
     },
     "execution_count": 95,
     "metadata": {},
     "output_type": "execute_result"
    }
   ],
   "source": [
    "# example data\n",
    "input_data = {\n",
    "    'CreditScore': 502,\n",
    "    'Geography': 'France',\n",
    "    'Gender':'Female',\n",
    "    'Age': 42,\n",
    "    'Tenure': 8,\n",
    "    'Balance': 156220,\n",
    "    'NumOfProducts': 3,\n",
    "    'HasCrCard': 2,\n",
    "    'IsActiveMember': 1,\n",
    "    'EstimatedSalary': 101348    \n",
    "}\n",
    "\n",
    "input_df = pd.DataFrame([input_data])\n",
    "input_df\n",
    "input_df['Gender'] = gender.transform(input_df['Gender'].map({'Male': 1, 'Female': 0}))\n",
    "input_df\n",
    "geo_encoded = geo.transform(input_df[['Geography']]).toarray()\n",
    "geo_encoded_df = pd.DataFrame(geo_encoded, columns=geo.get_feature_names_out(['Geography']))\n",
    "geo_encoded_df\n"
   ]
  },
  {
   "cell_type": "code",
   "execution_count": 96,
   "id": "bb5060db",
   "metadata": {},
   "outputs": [],
   "source": [
    "# concatenate the encoded geography columns with the original dataframe\n",
    "input_df = pd.concat([input_df.drop(columns=['Geography']), geo_encoded_df], axis=1)\n"
   ]
  },
  {
   "cell_type": "code",
   "execution_count": 97,
   "id": "b4520fad",
   "metadata": {},
   "outputs": [],
   "source": [
    "# scaler application\n",
    "input_df_scaled = scaler.transform(input_df)\n",
    "\n"
   ]
  },
  {
   "cell_type": "code",
   "execution_count": 98,
   "id": "bdb25e44",
   "metadata": {},
   "outputs": [
    {
     "name": "stdout",
     "output_type": "stream",
     "text": [
      "\u001b[1m1/1\u001b[0m \u001b[32m━━━━━━━━━━━━━━━━━━━━\u001b[0m\u001b[37m\u001b[0m \u001b[1m0s\u001b[0m 60ms/step\n"
     ]
    },
    {
     "data": {
      "text/plain": [
       "array([[0.9818984]], dtype=float32)"
      ]
     },
     "execution_count": 98,
     "metadata": {},
     "output_type": "execute_result"
    }
   ],
   "source": [
    "# predicition\n",
    "predictions = model.predict(input_df_scaled)\n",
    "predictions\n",
    "\n"
   ]
  },
  {
   "cell_type": "code",
   "execution_count": 99,
   "id": "c7cc09b0",
   "metadata": {},
   "outputs": [
    {
     "data": {
      "text/plain": [
       "np.float32(0.9818984)"
      ]
     },
     "execution_count": 99,
     "metadata": {},
     "output_type": "execute_result"
    }
   ],
   "source": [
    "predictions_prob = predictions[0][0]\n",
    "predictions_prob"
   ]
  },
  {
   "cell_type": "code",
   "execution_count": 100,
   "id": "360ff2e1",
   "metadata": {},
   "outputs": [
    {
     "name": "stdout",
     "output_type": "stream",
     "text": [
      "Customer is predicted to leave the bank.\n"
     ]
    }
   ],
   "source": [
    "if predictions_prob > 0.5:\n",
    "    print(\"Customer is predicted to leave the bank.\")   \n",
    "else:\n",
    "    print(\"Customer is predicted to stay with the bank.\")"
   ]
  }
 ],
 "metadata": {
  "kernelspec": {
   "display_name": "Python 3",
   "language": "python",
   "name": "python3"
  },
  "language_info": {
   "codemirror_mode": {
    "name": "ipython",
    "version": 3
   },
   "file_extension": ".py",
   "mimetype": "text/x-python",
   "name": "python",
   "nbconvert_exporter": "python",
   "pygments_lexer": "ipython3",
   "version": "3.12.9"
  }
 },
 "nbformat": 4,
 "nbformat_minor": 5
}
